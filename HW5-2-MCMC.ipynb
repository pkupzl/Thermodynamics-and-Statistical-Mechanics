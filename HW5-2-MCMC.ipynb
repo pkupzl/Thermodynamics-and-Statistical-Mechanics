{
 "cells": [
  {
   "cell_type": "markdown",
   "metadata": {},
   "source": [
    "# Introduction\n",
    "In 1953, Metropolis, Rosenbluth, and the Teller couple published a paper titled *Equation of State Calculations by Fast Computing Machines* proposing a random algorithm for using computers to solve the statistical properties of strongly correlated many-body systems. In this article, they performed calculations on a two-dimensional rigid sphere model. The key idea of the paper is to view the phase space of the canonical ensemble as a probability space. If the coordinates of N particles are given, one can calculate the energy (potential energy) of this configuration. Since the potential energy depends only on the positions and not on the velocities, the integration over momentum degrees of freedom in the phase space can be eliminated. **Hence, the statistical properties of the system are only related to the potential energy part**.\n",
    "$$\n",
    "<A> = \\frac{\\int A e^{-E/ \\tau} d^{3N}q}{Z}\n",
    "$$\n",
    "where $Z$ is the partition function, $E$ is the total energy, and $\\tau$ is the temperature. The key idea of the algorithm is to use a random walk to sample the phase space."
   ]
  },
  {
   "cell_type": "markdown",
   "metadata": {},
   "source": [
    "An intuitive approach is to randomly assign particle coordinates, calculate the physical quantity $A$ and the energy $E$ of the configuration, and then apply the statistical weight $e^{-E/\\tau}$. Finally, the weighted average of the physical quantity $A$ is obtained. This method is feasible for sparse systems, but for dense systems, the majority of configurations have extremely small weights (due to high energy caused by overlap), making it difficult to sample configurations with large weights. As a result, the algorithm's efficiency becomes extremely low. The authors proposed a modified method known as the famous **Metropolis algorithm**: instead of randomly and uniformly sampling configurations and assigning them weights $e^{-E/τ}$, configurations are selected according to their probabilities, which are proportional to  $e^{-E/τ}$. This way, it is more efficient to sample configurations with larger weights and improve the algorithm's efficiency.Specifically, the algorithm is as follows:\n",
    "- 1 Randomly initialize the coordinates of N particles and calculate their energy.\n",
    "- 2 Randomly select a particle and move it from qi to qi+αξ, where α is the step size (manually set) and ξ is a uniformly distributed random number in the range [-1, 1]. To reduce boundary effects, the authors used periodic boundary conditions.\n",
    "- 3 Calculate the energy difference (ΔE) between the new configuration and the original configuration. If the energy of the new configuration is lower, it is \"accepted.\" If the energy is higher, generate a random number ε from a uniform distribution in the range [0, 1]. If ε is less than e^(-ΔE/τ), the new configuration is \"accepted\"; otherwise, it is \"rejected\" and the system is restored to the configuration before the move.\n",
    "- 4 Regardless of whether the new configuration is accepted or rejected, the configuration after steps 2 and 3 is considered a sampled configuration.\n",
    "- Repeat steps 2-4 multiple times until a sufficient number of sampled configurations (denoted as M) are obtained to control statistical errors within an acceptable range."
   ]
  },
  {
   "cell_type": "markdown",
   "metadata": {},
   "source": [
    "For the desired physical quantity, compute the unweighted sample average, which represents the result of a single \"experiment\". Sometimes, higher-order moments of the physical quantity may also be needed, and these moments are likewise results of a single \"experiment\".\n",
    "The above describes the Metropolis algorithm, with step 4 being its core. It is evident that this is a Markov process, where each transition (steps 2-4) yields a state, and the transition probability P(Xn+1=x|Xn=xn) from the nth state to the n+1th state is independent of n."
   ]
  },
  {
   "cell_type": "code",
   "execution_count": 1,
   "metadata": {},
   "outputs": [],
   "source": [
    "import numpy as np\n",
    "import pandas as pd\n",
    "import matplotlib.pyplot as plt\n",
    "import math\n",
    "import matplotlib.patches as pch"
   ]
  },
  {
   "cell_type": "code",
   "execution_count": 2,
   "metadata": {},
   "outputs": [],
   "source": [
    "x=np.zeros((27,10000))\n",
    "y=np.zeros((27,10000))\n",
    "z=np.zeros((27,10000))\n",
    "vx=np.zeros((27,10000))\n",
    "vy=np.zeros((27,10000))\n",
    "vz=np.zeros((27,10000))\n",
    "ax=np.zeros((27,10000))\n",
    "ay=np.zeros((27,10000))\n",
    "az=np.zeros((27,10000))"
   ]
  },
  {
   "cell_type": "code",
   "execution_count": 3,
   "metadata": {},
   "outputs": [],
   "source": [
    "location=np.array([[2.5,2.5,2.5],\n",
    "                 [1.5,2.5,2.5],\n",
    "                 [3.5,2.5,2.5],\n",
    "                 [2.5,1.5,2.5],\n",
    "                 [2.5,3.5,2.5],\n",
    "                 [2.5,2.5,1.5],\n",
    "                 [2.5,2.5,3.5],\n",
    "                 [3.5,3.5,2.5],\n",
    "                 [3.5,1.5,2.5],\n",
    "                 [1.5,3.5,2.5],\n",
    "                 [1.5,1.5,2.5],\n",
    "                 [3.5,2.5,3.5],\n",
    "                 [3.5,2.5,1.5],\n",
    "                 [1.5,2.5,3.5],\n",
    "                 [1.5,2.5,1.5],\n",
    "                 [2.5,3.5,3.5],\n",
    "                 [2.5,3.5,1.5],\n",
    "                 [2.5,1.5,3.5],\n",
    "                 [2.5,1.5,1.5],\n",
    "                 [3.5,3.5,3.5],\n",
    "                 [3.5,3.5,1.5],\n",
    "                 [3.5,1.5,3.5],\n",
    "                 [1.5,3.5,3.5],\n",
    "                 [1.5,1.5,3.5],\n",
    "                 [1.5,3.5,1.5],\n",
    "                 [3.5,1.5,1.5],\n",
    "                 [1.5,1.5,1.5],])"
   ]
  },
  {
   "cell_type": "code",
   "execution_count": 4,
   "metadata": {},
   "outputs": [],
   "source": [
    "for i in range(27):\n",
    "    x[i][0]=location[i][0]\n",
    "    y[i][0]=location[i][1]\n",
    "    z[i][0]=location[i][2]"
   ]
  },
  {
   "cell_type": "code",
   "execution_count": 5,
   "metadata": {},
   "outputs": [],
   "source": [
    "def compare(xi,xj):#计算最近镜像\n",
    "    if abs(xi-xj)<=abs(xi-xj+L):\n",
    "        if abs(xi-xj)<=abs(xi-xj-L):\n",
    "            px=0\n",
    "            dx=abs(xi-xj)\n",
    "        else:\n",
    "            px=+1\n",
    "            dx=abs(xi-xj-L)\n",
    "    else:\n",
    "        if abs(xi-xj+L)<=abs(xi-xj-L):\n",
    "            px=-1\n",
    "            dx=abs(xi-xj+L)\n",
    "        else:\n",
    "            px=+1\n",
    "            dx=abs(xi-xj-L)\n",
    "    return px,dx"
   ]
  },
  {
   "cell_type": "code",
   "execution_count": 6,
   "metadata": {},
   "outputs": [],
   "source": [
    "def cal_r(xi,yi,zi,xj,yj,zj):\n",
    "    px,dx=compare(xi,xj)\n",
    "    py,dy=compare(yi,yj)\n",
    "    pz,dz=compare(zi,zj)\n",
    "    r=math.sqrt(dx*dx+dy*dy+dz*dz)\n",
    "    return r,px,py,pz#px,py,pz表示镜像的位置    "
   ]
  },
  {
   "cell_type": "code",
   "execution_count": 76,
   "metadata": {},
   "outputs": [],
   "source": [
    "import random\n",
    "L=5\n",
    "rc=2.5\n",
    "temperature=5"
   ]
  },
  {
   "cell_type": "code",
   "execution_count": 10,
   "metadata": {},
   "outputs": [],
   "source": [
    "up=np.zeros(10000)"
   ]
  },
  {
   "cell_type": "code",
   "execution_count": 11,
   "metadata": {},
   "outputs": [],
   "source": [
    "for i in range(1):\n",
    "    for j in range(27):\n",
    "        for k in range(27):\n",
    "            if j==k:\n",
    "                continue\n",
    "            rjk,px,py,pz=cal_r(x[j][i],y[j][i],z[j][i],x[k][i],y[k][i],z[k][i])\n",
    "            up[i]+=2*(math.pow(rjk,-12)-math.pow(rjk,-6))"
   ]
  },
  {
   "cell_type": "code",
   "execution_count": 21,
   "metadata": {},
   "outputs": [
    {
     "data": {
      "text/plain": [
       "(2.5082670033083474, 0.012669371113939176, -1.1880386486439343)"
      ]
     },
     "execution_count": 21,
     "metadata": {},
     "output_type": "execute_result"
    }
   ],
   "source": [
    "temp1=(random.random()-0.5)*L*2\n",
    "temp2=(random.random()-0.5)*L*2\n",
    "temp3=(random.random()-0.5)*L*2\n",
    "temp1,temp2,temp3"
   ]
  },
  {
   "cell_type": "code",
   "execution_count": 77,
   "metadata": {},
   "outputs": [
    {
     "data": {
      "text/plain": [
       "0.1353352832366127"
      ]
     },
     "execution_count": 77,
     "metadata": {},
     "output_type": "execute_result"
    }
   ],
   "source": [
    "math.exp(-2)"
   ]
  },
  {
   "cell_type": "code",
   "execution_count": 78,
   "metadata": {},
   "outputs": [],
   "source": [
    "for i in range(9999):\n",
    "    #print(i)\n",
    "    temp1=(random.random()-0.5)*L*2\n",
    "    temp2=(random.random()-0.5)*L*2\n",
    "    temp3=(random.random()-0.5)*L*2\n",
    "    jt=random.randint(0,26)#被选中的粒子序号\n",
    "    for j in range(27):\n",
    "        x[j][i+1]=x[j][i]\n",
    "        y[j][i+1]=y[j][i]\n",
    "        z[j][i+1]=z[j][i]\n",
    "    x[jt][i+1]=(x[jt][i]+temp1)%L\n",
    "    y[jt][i+1]=(y[jt][i]+temp2)%L\n",
    "    z[jt][i+1]=(z[jt][i]+temp3)%L\n",
    "    \n",
    "    for j in range(27):\n",
    "        for k in range(27):\n",
    "            if j==k:\n",
    "                continue\n",
    "            rjk,px,py,pz=cal_r(x[j][i+1],y[j][i+1],z[j][i+1],x[k][i+1],y[k][i+1],z[k][i+1])\n",
    "            up[i+1]+=2*(math.pow(rjk,-12)-math.pow(rjk,-6))\n",
    "    if(up[i+1]>up[i]):\n",
    "        delta_E=up[i+1]-up[i]\n",
    "        q=random.random()\n",
    "        if(q>math.exp(-delta_E/temperature)):\n",
    "            x[jt][i+1]=x[jt][i]\n",
    "            y[jt][i+1]=y[jt][i]\n",
    "            z[jt][i+1]=z[jt][i]\n",
    "            up[i+1]=up[i]\n",
    "    "
   ]
  },
  {
   "cell_type": "code",
   "execution_count": 86,
   "metadata": {},
   "outputs": [],
   "source": [
    "p=np.zeros(10000)\n",
    "for i in range(10000):\n",
    "    for j in range(27):\n",
    "        for k in range(27):\n",
    "            if j==k:\n",
    "                continue\n",
    "            rjk,px,py,pz=cal_r(x[j][i],y[j][i],z[j][i],x[k][i],y[k][i],z[k][i])\n",
    "            p[i]+=2*(-12*math.pow(rjk,-12)+6*math.pow(rjk,-6))#在计算时已经乘了1/2，因为每两个粒子之间的作用势被计算两次"
   ]
  },
  {
   "cell_type": "markdown",
   "metadata": {},
   "source": [
    "## Compute the ensemble average over the first 10,000 samples."
   ]
  },
  {
   "cell_type": "code",
   "execution_count": 87,
   "metadata": {},
   "outputs": [],
   "source": [
    "N=27\n",
    "V=L*L*L\n",
    "p_ex=0\n",
    "for i in range(10000):\n",
    "    p_ex+=p[i]\n",
    "p_ex=p_ex/(30000*V)\n",
    "p_final=N*temperature/V-p_ex"
   ]
  },
  {
   "cell_type": "code",
   "execution_count": 88,
   "metadata": {},
   "outputs": [
    {
     "data": {
      "text/plain": [
       "1.3364947249313484"
      ]
     },
     "execution_count": 88,
     "metadata": {},
     "output_type": "execute_result"
    }
   ],
   "source": [
    "p_final"
   ]
  },
  {
   "cell_type": "markdown",
   "metadata": {},
   "source": [
    "## Compute the ensemble average over the last 5,000 samples to ensure convergence of the Markov process to the stationary distribution."
   ]
  },
  {
   "cell_type": "code",
   "execution_count": 89,
   "metadata": {},
   "outputs": [],
   "source": [
    "N=27\n",
    "V=L*L*L\n",
    "p_ex=0\n",
    "for i in range(5000,10000):\n",
    "    p_ex+=p[i]\n",
    "p_ex=p_ex/(15000*V)\n",
    "p_final=N*temperature/V-p_ex"
   ]
  },
  {
   "cell_type": "code",
   "execution_count": 90,
   "metadata": {},
   "outputs": [
    {
     "data": {
      "text/plain": [
       "1.2974667972170972"
      ]
     },
     "execution_count": 90,
     "metadata": {},
     "output_type": "execute_result"
    }
   ],
   "source": [
    "p_final"
   ]
  },
  {
   "cell_type": "code",
   "execution_count": 91,
   "metadata": {},
   "outputs": [
    {
     "data": {
      "text/plain": [
       "1.08"
      ]
     },
     "execution_count": 91,
     "metadata": {},
     "output_type": "execute_result"
    }
   ],
   "source": [
    "N*temperature/V"
   ]
  },
  {
   "cell_type": "markdown",
   "metadata": {},
   "source": [
    "# Chemical Potential \n",
    "Through the previous two ipynb files, we have learned that as long as we can express a statistical quantity we want to study as an ensemble average, we can compute it using molecular dynamics simulations or Monte Carlo methods. However, we cannot express the free energy and partition function of a system as ensemble averages, so we cannot directly obtain these quantities through simulation methods. Nevertheless, we can still find a way to express the difference between these quantities and the statistical quantities of an ideal gas as ensemble averages. Below, we will introduce the **Widom method** (also known as the **Particle Insertion method**) for calculating the chemical potential in the canonical ensemble."
   ]
  },
  {
   "cell_type": "markdown",
   "metadata": {},
   "source": [
    "### Particle insertion method\n",
    "\n",
    "In the Widom method, we assume that our system already contains N-1 particles, and we want to calculate the chemical potential of inserting an additional particle into this system. We can express this chemical potential as a difference, namely the difference between the chemical potential of a system with N particles and the chemical potential of a system with N-1 particles.\n",
    "\n",
    "Using the particle insertion method, we can insert a new particle into the system and calculate its energy and interactions with the other particles. Then, by averaging over all possible insertion positions, we can convert these energy differences into ensemble averages. Ultimately, we can calculate the chemical potential in the canonical ensemble using the average energy differences obtained from the simulation.\n",
    "\n",
    "The particle insertion method is a commonly used technique for calculating the chemical potential in the canonical ensemble. It allows us to obtain the system's chemical potential through simulation, even though we cannot directly express it as an ensemble average. This method has broad applications in theoretical and computational chemistry."
   ]
  },
  {
   "cell_type": "markdown",
   "metadata": {},
   "source": [
    "When N is large, we can make an important approximation:\n",
    "$$\n",
    "F = -\\tau log Z_N, \\mu = \\left(\\frac{\\partial F}{\\partial N}\\right )_{V,T} \\approx -\\tau log \\frac{Z_{N+1}}{Z_N}\n",
    "$$\n",
    "The expression for the partition function is: \n",
    "$$\n",
    "Z(N,V,\\tau) = \\frac{V^{N}}{\\Lambda^{3N}N!} \\int e^{-\\beta E(\\boldsymbol{s}^{N};L)} d^{3N}s, \\quad dr_{(i)} = Lds_{i}\n",
    "$$\n",
    "Substituting the approximate expression for the chemical potential μ, we have:\n",
    "$$\n",
    "\\mu = -\\tau log\\left(\\frac{V/\\Lambda^{3}}{N+1}\\right ) -\\tau log \\frac{\\int e^{-\\beta E(\\boldsymbol{s}^{N+1};L)} d^{N+1}\\boldsymbol{s}}{\\int e^{-\\beta E(\\boldsymbol{s}^{N};L)} d^{N}\\boldsymbol{s}} \\equiv \\mu_{ideal}+\\mu_{ex} \n",
    "$$\n",
    "The part concerning the ideal gas can be directly calculated. Now let's calculate the remaining part. Note that $μ_{ex}$ can be expressed as an ensemble average:\n",
    "$$\n",
    "Let \\quad \\Delta E = E(\\boldsymbol{s}^(N+1)) - E(\\boldsymbol{s}^N)\n",
    "$$\n",
    "$$\n",
    "μ_{ex} = -\\tau log\\left(\\int d\\boldsymbol{s}^{N+1} <exp(-\\beta \\Delta E)>_{N}\\right)\n",
    "$$\n",
    "Therefore, in a Monte Carlo simulation of an N-particle system, we only need to randomly insert a virtual particle (with its position uniformly distributed within the box) at a certain frequency. Calculate the additional potential energy $\\Delta E$ caused by this particle and then take an average of the corresponding Boltzmann factor $exp(-\\beta \\Delta E)$. Multiply the result by $-\\tau$ after taking the logarithm to obtain $μ_{ex}$, and subsequently obtain the chemical potential of the system.\n"
   ]
  },
  {
   "cell_type": "code",
   "execution_count": 92,
   "metadata": {},
   "outputs": [],
   "source": [
    "up_extra=np.zeros(10000)\n",
    "for i in range(5000,10000):\n",
    "    temp1=random.random()*L\n",
    "    temp2=random.random()*L\n",
    "    temp3=random.random()*L\n",
    "    for j in range(27):\n",
    "        rjk,px,py,pz=cal_r(temp1,temp2,temp3,x[j][i],y[j][i],z[j][i])\n",
    "        up_extra[i]+=4*(math.pow(rjk,-12)-math.pow(rjk,-6))\n",
    "        "
   ]
  },
  {
   "cell_type": "code",
   "execution_count": 93,
   "metadata": {},
   "outputs": [],
   "source": [
    "upx=0\n",
    "for i in range(5000,10000):\n",
    "    upx+=math.exp(-up_extra[i]/temperature)\n",
    "upx=upx/5000"
   ]
  },
  {
   "cell_type": "code",
   "execution_count": 94,
   "metadata": {},
   "outputs": [],
   "source": [
    "chemistry_potential=-temperature*math.log(upx)"
   ]
  },
  {
   "cell_type": "code",
   "execution_count": 95,
   "metadata": {},
   "outputs": [
    {
     "data": {
      "text/plain": [
       "1.8683857758632152"
      ]
     },
     "execution_count": 95,
     "metadata": {},
     "output_type": "execute_result"
    }
   ],
   "source": [
    "chemistry_potential"
   ]
  },
  {
   "cell_type": "code",
   "execution_count": null,
   "metadata": {},
   "outputs": [],
   "source": []
  }
 ],
 "metadata": {
  "kernelspec": {
   "display_name": "Python [conda env:pytorch]",
   "language": "python",
   "name": "conda-env-pytorch-py"
  },
  "language_info": {
   "codemirror_mode": {
    "name": "ipython",
    "version": 3
   },
   "file_extension": ".py",
   "mimetype": "text/x-python",
   "name": "python",
   "nbconvert_exporter": "python",
   "pygments_lexer": "ipython3",
   "version": "3.7.13"
  }
 },
 "nbformat": 4,
 "nbformat_minor": 4
}
