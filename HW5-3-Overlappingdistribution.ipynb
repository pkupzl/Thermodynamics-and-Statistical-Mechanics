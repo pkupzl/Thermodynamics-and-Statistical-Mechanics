{
 "cells": [
  {
   "cell_type": "markdown",
   "metadata": {},
   "source": [
    "## Overlapping Distribution Method"
   ]
  },
  {
   "cell_type": "markdown",
   "metadata": {},
   "source": [
    "In `HW5-2-MCMC.ipynb`, we can see that we consider two independent N-particle systems: one containing N particles following the Lennard-Jones potential, denoted as S1, and the other containing N-1 particles following the Lennard-Jones potential plus one ideal gas particle, denoted as S0. The free energy difference between these two systems, ∆F = F1 - F0, is the quantity we want to calculate, which corresponds to $μ_{ex}$. Now, we will introduce a general method to compute the free energy difference between two systems called the **Overlapping Distribution method**."
   ]
  },
  {
   "cell_type": "markdown",
   "metadata": {},
   "source": [
    "Still let $\\Delta E = E_{1} - E_{0}$ denote the potential energy difference. We will construct a histogram of ∆E by performing Monte Carlo sampling on both systems.\n",
    "$$\n",
    "p_1(\\Delta E) = \\frac{1}{Z_1} \\int ds^N e^{-\\beta E_1} \\delta(E_1 - E_0 - \\Delta E)\n",
    "$$\n",
    "Note that the Dirac delta function, $\\delta(E_{1} - E_{0} - \\Delta E)$, allows us to replace $E_{1}$ with $E_{0} + \\Delta E$ in the Boltzmann factor $exp(-\\beta E_{1})$. Therefore, we have:\n",
    "$$\n",
    "p_{1}(\\Delta E) = \\frac{1}{Z_{1}} \\int ds^N e^{-\\beta (E_{0} + \\Delta E)}\\delta(E_{1} - E_{0} - \\Delta E) = \\frac{Z_{0}}{Z_{1}}\\exp(-\\beta \\Delta E) p_{0}(\\Delta E)\n",
    "$$\n",
    "Taking the logarithm of both sides of the equation and noting that $\\Delta F = -\\tau log(Z_{1}/Z_{0})$, we have:\n",
    "$$\n",
    "log(p_{1}(\\Delta E)) = \\beta(\\Delta F-\\Delta E) + log(p_{0}(\\Delta E)) \n",
    "$$\n",
    "Define:\n",
    "$$\n",
    "f_{0}(\\Delta E) = log(p_{0}(\\Delta E)) + \\frac{\\beta \\Delta E}{2}\n",
    "$$\n",
    "$$\n",
    "f_{1}(\\Delta E) = log(p_{1}(\\Delta E)) - \\frac{\\beta \\Delta E}{2}\n",
    "$$\n",
    "Then, we have:\n",
    "$$\n",
    "f_{1}(\\Delta E) = f_{0}(\\Delta E) + \\beta \\Delta F\n",
    "$$\n"
   ]
  },
  {
   "cell_type": "markdown",
   "metadata": {},
   "source": [
    "Assuming that System 1 consists of $N$ particles following the Lennard-Jones potential, and System 0 consists of $N-1$ particles following the Lennard-Jones potential plus one ideal gas particle. By performing Monte Carlo simulations on both systems, we can obtain distributions of $\\Delta E$ in the range where $f_{1}(\\Delta E)$ and $f_{0}(\\Delta E)$ are non-zero. By fitting polynomial functions to these distributions, the difference between the constant terms of the fitted functions is $βμ_{ex}$, which is the quantity we are seeking."
   ]
  },
  {
   "cell_type": "code",
   "execution_count": 1,
   "metadata": {},
   "outputs": [],
   "source": [
    "import numpy as np\n",
    "import pandas as pd\n",
    "import matplotlib.pyplot as plt\n",
    "import math\n",
    "import matplotlib.patches as pch"
   ]
  },
  {
   "cell_type": "code",
   "execution_count": 50,
   "metadata": {},
   "outputs": [],
   "source": [
    "x1=np.zeros((27,20000))\n",
    "y1=np.zeros((27,20000))\n",
    "z1=np.zeros((27,20000))\n",
    "x0=np.zeros((26,20000))\n",
    "y0=np.zeros((26,20000))\n",
    "z0=np.zeros((26,20000))\n"
   ]
  },
  {
   "cell_type": "code",
   "execution_count": 51,
   "metadata": {},
   "outputs": [],
   "source": [
    "location=np.array([[2.5,2.5,2.5],\n",
    "                 [1.5,2.5,2.5],\n",
    "                 [3.5,2.5,2.5],\n",
    "                 [2.5,1.5,2.5],\n",
    "                 [2.5,3.5,2.5],\n",
    "                 [2.5,2.5,1.5],\n",
    "                 [2.5,2.5,3.5],\n",
    "                 [3.5,3.5,2.5],\n",
    "                 [3.5,1.5,2.5],\n",
    "                 [1.5,3.5,2.5],\n",
    "                 [1.5,1.5,2.5],\n",
    "                 [3.5,2.5,3.5],\n",
    "                 [3.5,2.5,1.5],\n",
    "                 [1.5,2.5,3.5],\n",
    "                 [1.5,2.5,1.5],\n",
    "                 [2.5,3.5,3.5],\n",
    "                 [2.5,3.5,1.5],\n",
    "                 [2.5,1.5,3.5],\n",
    "                 [2.5,1.5,1.5],\n",
    "                 [3.5,3.5,3.5],\n",
    "                 [3.5,3.5,1.5],\n",
    "                 [3.5,1.5,3.5],\n",
    "                 [1.5,3.5,3.5],\n",
    "                 [1.5,1.5,3.5],\n",
    "                 [1.5,3.5,1.5],\n",
    "                 [3.5,1.5,1.5],\n",
    "                 [1.5,1.5,1.5],])"
   ]
  },
  {
   "cell_type": "code",
   "execution_count": 52,
   "metadata": {},
   "outputs": [],
   "source": [
    "for i in range(27):\n",
    "    x1[i][0]=location[i][0]\n",
    "    y1[i][0]=location[i][1]\n",
    "    z1[i][0]=location[i][2]\n",
    "for i in range(26):\n",
    "    x0[i][0]=location[i][0]\n",
    "    y0[i][0]=location[i][1]\n",
    "    z0[i][0]=location[i][2]"
   ]
  },
  {
   "cell_type": "code",
   "execution_count": 53,
   "metadata": {},
   "outputs": [],
   "source": [
    "def compare(xi,xj):#计算最近镜像\n",
    "    if abs(xi-xj)<=abs(xi-xj+L):\n",
    "        if abs(xi-xj)<=abs(xi-xj-L):\n",
    "            px=0\n",
    "            dx=abs(xi-xj)\n",
    "        else:\n",
    "            px=+1\n",
    "            dx=abs(xi-xj-L)\n",
    "    else:\n",
    "        if abs(xi-xj+L)<=abs(xi-xj-L):\n",
    "            px=-1\n",
    "            dx=abs(xi-xj+L)\n",
    "        else:\n",
    "            px=+1\n",
    "            dx=abs(xi-xj-L)\n",
    "    return px,dx"
   ]
  },
  {
   "cell_type": "code",
   "execution_count": 54,
   "metadata": {},
   "outputs": [],
   "source": [
    "def cal_r(xi,yi,zi,xj,yj,zj):\n",
    "    px,dx=compare(xi,xj)\n",
    "    py,dy=compare(yi,yj)\n",
    "    pz,dz=compare(zi,zj)\n",
    "    r=math.sqrt(dx*dx+dy*dy+dz*dz)\n",
    "    return r,px,py,pz#px,py,pz表示镜像的位置   "
   ]
  },
  {
   "cell_type": "code",
   "execution_count": 55,
   "metadata": {},
   "outputs": [],
   "source": [
    "import random\n",
    "L=5\n",
    "rc=2.5\n",
    "temperature=5"
   ]
  },
  {
   "cell_type": "code",
   "execution_count": 56,
   "metadata": {},
   "outputs": [],
   "source": [
    "up1=np.zeros(20000)"
   ]
  },
  {
   "cell_type": "code",
   "execution_count": 57,
   "metadata": {},
   "outputs": [],
   "source": [
    "for i in range(1):\n",
    "    for j in range(27):\n",
    "        for k in range(27):\n",
    "            if j==k:\n",
    "                continue\n",
    "            rjk,px,py,pz=cal_r(x1[j][i],y1[j][i],z1[j][i],x1[k][i],y1[k][i],z1[k][i])\n",
    "            up1[i]+=2*(math.pow(rjk,-12)-math.pow(rjk,-6))"
   ]
  },
  {
   "cell_type": "code",
   "execution_count": 58,
   "metadata": {},
   "outputs": [],
   "source": [
    "for i in range(19999):\n",
    "    #print(i)\n",
    "    temp1=(random.random()-0.5)*L*2\n",
    "    temp2=(random.random()-0.5)*L*2\n",
    "    temp3=(random.random()-0.5)*L*2\n",
    "    jt=random.randint(0,26)#被选中的粒子序号\n",
    "    for j in range(27):\n",
    "        x1[j][i+1]=x1[j][i]\n",
    "        y1[j][i+1]=y1[j][i]\n",
    "        z1[j][i+1]=z1[j][i]\n",
    "    x1[jt][i+1]=(x1[jt][i]+temp1)%L\n",
    "    y1[jt][i+1]=(y1[jt][i]+temp2)%L\n",
    "    z1[jt][i+1]=(z1[jt][i]+temp3)%L\n",
    "    \n",
    "    for j in range(27):\n",
    "        for k in range(27):\n",
    "            if j==k:\n",
    "                continue\n",
    "            rjk,px,py,pz=cal_r(x1[j][i+1],y1[j][i+1],z1[j][i+1],x1[k][i+1],y1[k][i+1],z1[k][i+1])\n",
    "            up1[i+1]+=2*(math.pow(rjk,-12)-math.pow(rjk,-6))\n",
    "    if(up1[i+1]>up1[i]):\n",
    "        delta_E=up1[i+1]-up1[i]\n",
    "        q=random.random()\n",
    "        if(q>math.exp(-delta_E/temperature)):\n",
    "            x1[jt][i+1]=x1[jt][i]\n",
    "            y1[jt][i+1]=y1[jt][i]\n",
    "            z1[jt][i+1]=z1[jt][i]\n",
    "            up1[i+1]=up1[i]\n",
    "    "
   ]
  },
  {
   "cell_type": "code",
   "execution_count": 61,
   "metadata": {},
   "outputs": [],
   "source": [
    "up0=np.zeros(20000)\n",
    "for i in range(1):\n",
    "    for j in range(26):\n",
    "        for k in range(26):\n",
    "            if j==k:\n",
    "                continue\n",
    "            rjk,px,py,pz=cal_r(x0[j][i],y0[j][i],z0[j][i],x0[k][i],y0[k][i],z0[k][i])\n",
    "            up0[i]+=2*(math.pow(rjk,-12)-math.pow(rjk,-6))"
   ]
  },
  {
   "cell_type": "code",
   "execution_count": 62,
   "metadata": {},
   "outputs": [
    {
     "data": {
      "text/plain": [
       "-39.25010569974872"
      ]
     },
     "execution_count": 62,
     "metadata": {},
     "output_type": "execute_result"
    }
   ],
   "source": [
    "up0[0]"
   ]
  },
  {
   "cell_type": "code",
   "execution_count": 63,
   "metadata": {},
   "outputs": [],
   "source": [
    "for i in range(19999):\n",
    "    #print(i)\n",
    "    temp1=(random.random()-0.5)*L*2\n",
    "    temp2=(random.random()-0.5)*L*2\n",
    "    temp3=(random.random()-0.5)*L*2\n",
    "    jt=random.randint(0,25)#被选中的粒子序号\n",
    "    for j in range(26):\n",
    "        x0[j][i+1]=x0[j][i]\n",
    "        y0[j][i+1]=y0[j][i]\n",
    "        z0[j][i+1]=z0[j][i]\n",
    "    x0[jt][i+1]=(x0[jt][i]+temp1)%L\n",
    "    y0[jt][i+1]=(y0[jt][i]+temp2)%L\n",
    "    z0[jt][i+1]=(z0[jt][i]+temp3)%L\n",
    "    \n",
    "    for j in range(26):\n",
    "        for k in range(26):\n",
    "            if j==k:\n",
    "                continue\n",
    "            rjk,px,py,pz=cal_r(x0[j][i+1],y0[j][i+1],z0[j][i+1],x0[k][i+1],y0[k][i+1],z0[k][i+1])\n",
    "            up0[i+1]+=2*(math.pow(rjk,-12)-math.pow(rjk,-6))\n",
    "    if(up0[i+1]>up0[i]):\n",
    "        delta_E=up0[i+1]-up0[i]\n",
    "        q=random.random()\n",
    "        if(q>math.exp(-delta_E/temperature)):\n",
    "            x0[jt][i+1]=x0[jt][i]\n",
    "            y0[jt][i+1]=y0[jt][i]\n",
    "            z0[jt][i+1]=z0[jt][i]\n",
    "            up0[i+1]=up0[i]\n",
    "    "
   ]
  },
  {
   "cell_type": "code",
   "execution_count": 33,
   "metadata": {},
   "outputs": [
    {
     "data": {
      "text/plain": [
       "-1"
      ]
     },
     "execution_count": 33,
     "metadata": {},
     "output_type": "execute_result"
    }
   ],
   "source": [
    "round(-0.6)"
   ]
  },
  {
   "cell_type": "code",
   "execution_count": 70,
   "metadata": {},
   "outputs": [],
   "source": [
    "p1=np.zeros(200)\n",
    "p0=np.zeros(200)\n",
    "for i in range(10000,20000):\n",
    "    j_remove=random.randint(0,26)\n",
    "    up_remove=0\n",
    "    for j in range(27):\n",
    "        if j==j_remove:\n",
    "            continue\n",
    "        rjk,px,py,pz=cal_r(x1[j_remove][i],y1[j_remove][i],z1[j_remove][i],x1[j][i],y1[j][i],z1[j][i])\n",
    "        up_remove+=4*(math.pow(rjk,-12)-math.pow(rjk,-6))\n",
    "    k1=round(99+5*up_remove)\n",
    "    if k1<200:\n",
    "        p1[k1]+=1\n",
    "    temp1=random.random()*L\n",
    "    temp2=random.random()*L\n",
    "    temp3=random.random()*L\n",
    "    up_insert=0\n",
    "    for j in range(26):\n",
    "        rjk,px,py,pz=cal_r(temp1,temp2,temp3,x0[j][i],y0[j][i],z0[j][i])\n",
    "        up_insert+=4*(math.pow(rjk,-12)-math.pow(rjk,-6))\n",
    "    k0=round(99+5*up_insert)\n",
    "    if k0<200:\n",
    "        p0[k0]+=1\n"
   ]
  },
  {
   "cell_type": "code",
   "execution_count": 71,
   "metadata": {},
   "outputs": [],
   "source": [
    "t=np.linspace(-20,20,200)"
   ]
  },
  {
   "cell_type": "code",
   "execution_count": 73,
   "metadata": {},
   "outputs": [
    {
     "data": {
      "text/plain": [
       "[<matplotlib.lines.Line2D at 0x19494f622c8>]"
      ]
     },
     "execution_count": 73,
     "metadata": {},
     "output_type": "execute_result"
    },
    {
     "data": {
      "image/png": "[encoded data removed]",
      "text/plain": [
       "<Figure size 432x288 with 1 Axes>"
      ]
     },
     "metadata": {
      "needs_background": "light"
     },
     "output_type": "display_data"
    }
   ],
   "source": [
    "plt.plot(t,p0)"
   ]
  },
  {
   "cell_type": "code",
   "execution_count": 84,
   "metadata": {},
   "outputs": [],
   "source": [
    "f1=np.zeros(200)\n",
    "f0=np.zeros(200)\n",
    "for k in range(200):\n",
    "    delta_up=-20+k/5\n",
    "    if p1[k]>0:\n",
    "        f1[k]=math.log(p1[k]/10000)+(delta_up)/(temperature*2)\n",
    "    else:\n",
    "        f1[k]=math.log(1/10000)+(delta_up)/(temperature*2)    \n",
    "    if p0[k]>0:\n",
    "        f0[k]=math.log(p0[k]/10000)-(delta_up)/(temperature*2)\n",
    "    else:\n",
    "        f0[k]=math.log(1/10000)-(delta_up)/(temperature*2)\n",
    "            "
   ]
  },
  {
   "cell_type": "code",
   "execution_count": 85,
   "metadata": {},
   "outputs": [
    {
     "data": {
      "text/plain": [
       "[<matplotlib.lines.Line2D at 0x194952b07c8>]"
      ]
     },
     "execution_count": 85,
     "metadata": {},
     "output_type": "execute_result"
    },
    {
     "data": {
      "image/png": "[encoded data removed]",
      "text/plain": [
       "<Figure size 432x288 with 1 Axes>"
      ]
     },
     "metadata": {
      "needs_background": "light"
     },
     "output_type": "display_data"
    }
   ],
   "source": [
    "plt.plot(t,f1)"
   ]
  },
  {
   "cell_type": "markdown",
   "metadata": {},
   "source": [
    "The simulation results are shown in the figure, and it can be observed that in the overlapping region, both the Widom method and the Overlapping Distribution method yield almost identical results. According to the calculations, the chemical potential obtained from the Overlapping Distribution method is approximately 1.61."
   ]
  },
  {
   "cell_type": "code",
   "execution_count": 105,
   "metadata": {},
   "outputs": [
    {
     "data": {
      "text/plain": [
       "Text(0, 0.5, 'βμ_ex')"
      ]
     },
     "execution_count": 105,
     "metadata": {},
     "output_type": "execute_result"
    },
    {
     "data": {
      "image/png": "[encoded data removed]",
      "text/plain": [
       "<Figure size 432x288 with 1 Axes>"
      ]
     },
     "metadata": {
      "needs_background": "light"
     },
     "output_type": "display_data"
    }
   ],
   "source": [
    "a=plt.plot(t,f1,label='f1')\n",
    "b=plt.plot(t,f0,label='f0')\n",
    "c=plt.plot(t,f1-f0,'r--',label='f1-f0')\n",
    "d=plt.plot(t,w,label='widom')\n",
    "plt.legend(loc='best')\n",
    "plt.xlabel('ΔE')\n",
    "plt.ylabel('βμ_ex')"
   ]
  },
  {
   "cell_type": "code",
   "execution_count": 87,
   "metadata": {},
   "outputs": [],
   "source": [
    "widom_cp=1.8683857758632152/5"
   ]
  },
  {
   "cell_type": "code",
   "execution_count": 88,
   "metadata": {},
   "outputs": [
    {
     "data": {
      "text/plain": [
       "0.37367715517264305"
      ]
     },
     "execution_count": 88,
     "metadata": {},
     "output_type": "execute_result"
    }
   ],
   "source": [
    "widom_cp"
   ]
  },
  {
   "cell_type": "code",
   "execution_count": 89,
   "metadata": {},
   "outputs": [],
   "source": [
    "w=np.zeros(200)\n",
    "for i in range(200):\n",
    "    w[i]=widom_cp"
   ]
  },
  {
   "cell_type": "code",
   "execution_count": 106,
   "metadata": {},
   "outputs": [],
   "source": [
    "overlapping_chemistry_potential=0\n",
    "for k in range(75,110):\n",
    "    overlapping_chemistry_potential+=f1[k]-f0[k]\n",
    "overlapping_chemistry_potential=(overlapping_chemistry_potential)/35*temperature"
   ]
  },
  {
   "cell_type": "code",
   "execution_count": 107,
   "metadata": {},
   "outputs": [
    {
     "data": {
      "text/plain": [
       "1.6102898325573363"
      ]
     },
     "execution_count": 107,
     "metadata": {},
     "output_type": "execute_result"
    }
   ],
   "source": [
    "overlapping_chemistry_potential"
   ]
  },
  {
   "cell_type": "code",
   "execution_count": null,
   "metadata": {},
   "outputs": [],
   "source": []
  }
 ],
 "metadata": {
  "kernelspec": {
   "display_name": "Python [conda env:pytorch]",
   "language": "python",
   "name": "conda-env-pytorch-py"
  },
  "language_info": {
   "codemirror_mode": {
    "name": "ipython",
    "version": 3
   },
   "file_extension": ".py",
   "mimetype": "text/x-python",
   "name": "python",
   "nbconvert_exporter": "python",
   "pygments_lexer": "ipython3",
   "version": "3.7.13"
  }
 },
 "nbformat": 4,
 "nbformat_minor": 4
}
